{
  "nbformat": 4,
  "nbformat_minor": 0,
  "metadata": {
    "colab": {
      "provenance": []
    },
    "kernelspec": {
      "name": "python3",
      "display_name": "Python 3"
    },
    "language_info": {
      "name": "python"
    }
  },
  "cells": [
    {
      "cell_type": "code",
      "execution_count": 34,
      "metadata": {
        "id": "Dk15Q96G9zdG"
      },
      "outputs": [],
      "source": [
        "import pandas_datareader as pdr\n",
        "import datetime\n",
        "import yfinance as yf"
      ]
    },
    {
      "cell_type": "code",
      "source": [
        "# Define the date range for Google and Nike\n",
        "\n",
        "start_date_goog = datetime.datetime(2004, 8, 19)\n",
        "end_date_goog = datetime.datetime(2019, 12, 19)\n",
        "start_date_nke = datetime.datetime(2010, 1, 4)\n",
        "end_date_nke = datetime.datetime(2019, 12, 19)\n",
        "\n",
        "start_date_first_experiment_nke = datetime.datetime(1980, 12, 2)\n",
        "end_date_first_experiment_nke = datetime.datetime(2019, 12, 19)"
      ],
      "metadata": {
        "id": "S-wPvFte98Ri"
      },
      "execution_count": 35,
      "outputs": []
    },
    {
      "cell_type": "code",
      "source": [
        "# Download the historical stock price data from Yahoo Finance\n",
        "\n",
        "goog_df = yf.download('GOOG', start=start_date_goog, end=end_date_goog)\n",
        "nke_df = yf.download('NKE', start=start_date_nke, end=end_date_nke)\n",
        "\n",
        "first_experiment_nke_df = yf.download('NKE', start=start_date_first_experiment_nke, end=end_date_first_experiment_nke)"
      ],
      "metadata": {
        "colab": {
          "base_uri": "https://localhost:8080/"
        },
        "id": "CnK0sU_d98ZF",
        "outputId": "15a23fcc-d040-424b-b6cb-dd2ff0ffdc2b"
      },
      "execution_count": 36,
      "outputs": [
        {
          "output_type": "stream",
          "name": "stdout",
          "text": [
            "[*********************100%***********************]  1 of 1 completed\n",
            "[*********************100%***********************]  1 of 1 completed\n",
            "[*********************100%***********************]  1 of 1 completed\n"
          ]
        }
      ]
    },
    {
      "cell_type": "code",
      "source": [
        "# Drop the unnecessary features\n",
        "\n",
        "goog_df.drop(['Close', 'Low', 'High', 'Adj Close', 'Volume'], axis=1, inplace=True)\n",
        "nke_df.drop(['Close', 'Low', 'High', 'Adj Close', 'Volume'], axis=1, inplace=True)\n",
        "\n",
        "first_experiment_nke_df.drop(['Close', 'Low', 'High', 'Adj Close', 'Volume'], axis=1, inplace=True)"
      ],
      "metadata": {
        "id": "SAn1AiigBqeh"
      },
      "execution_count": 37,
      "outputs": []
    },
    {
      "cell_type": "code",
      "source": [
        "# Split the data into training and testing sets\n",
        "\n",
        "goog_train_size = int(len(goog_df) * 0.8)\n",
        "goog_train_data, goog_test_data = goog_df[:goog_train_size], goog_df[goog_train_size:]\n",
        "\n",
        "nke_train_size = int(len(nke_df) * 0.8)\n",
        "nke_train_data, nke_test_data = nke_df[:nke_train_size], nke_df[nke_train_size:]\n",
        "\n",
        "nke_first_experiment_train_size = int(len(first_experiment_nke_df) * 0.8)\n",
        "nke_first_experiment_train_data, nke_first_experiment_test_data = first_experiment_nke_df[:nke_first_experiment_train_size], first_experiment_nke_df[nke_first_experiment_train_size:]"
      ],
      "metadata": {
        "id": "ThhDy03C98dW"
      },
      "execution_count": 38,
      "outputs": []
    },
    {
      "cell_type": "code",
      "source": [
        "# Print the shapes of the resulting dataframes\n",
        "\n",
        "print(\"Google train data shape:\", goog_train_data.shape)\n",
        "print(\"Google test data shape:\", goog_test_data.shape)\n",
        "print(\"Nike train data shape:\", nke_train_data.shape)\n",
        "print(\"Nike test data shape:\", nke_test_data.shape)\n",
        "\n",
        "print(\"Nike train data shape for first experiment:\", nke_first_experiment_train_data.shape)\n",
        "print(\"Nike test data shape for first experiment\", nke_first_experiment_test_data.shape)"
      ],
      "metadata": {
        "colab": {
          "base_uri": "https://localhost:8080/"
        },
        "id": "atavp0UD98fO",
        "outputId": "62d6b9ba-ca54-4052-fd78-c06a28e44c50"
      },
      "execution_count": 39,
      "outputs": [
        {
          "output_type": "stream",
          "name": "stdout",
          "text": [
            "Google train data shape: (3088, 1)\n",
            "Google test data shape: (773, 1)\n",
            "Nike train data shape: (2006, 1)\n",
            "Nike test data shape: (502, 1)\n",
            "Nike train data shape for first experiment: (7877, 1)\n",
            "Nike test data shape for first experiment (1970, 1)\n"
          ]
        }
      ]
    },
    {
      "cell_type": "code",
      "source": [],
      "metadata": {
        "id": "DJ3gfNO0D5yR"
      },
      "execution_count": 39,
      "outputs": []
    }
  ]
}